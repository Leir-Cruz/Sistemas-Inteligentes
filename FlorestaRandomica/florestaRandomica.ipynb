{
 "cells": [
  {
   "cell_type": "markdown",
   "metadata": {},
   "source": [
    "# Importando bibliotecas"
   ]
  },
  {
   "cell_type": "code",
   "execution_count": 29,
   "metadata": {},
   "outputs": [],
   "source": [
    "from pandas import read_csv\n",
    "from matplotlib import pyplot\n",
    "from sklearn.model_selection import cross_val_score\n",
    "from sklearn.ensemble import RandomForestClassifier\n",
    "from sklearn.model_selection import StratifiedKFold\n",
    "from sklearn.metrics import confusion_matrix\n",
    "from sklearn.metrics import roc_curve\n",
    "from sklearn.metrics import roc_auc_score\n",
    "from sklearn.tree import DecisionTreeClassifier"
   ]
  },
  {
   "cell_type": "markdown",
   "metadata": {},
   "source": [
    "Agora que instalamos as dependências necessárias, vamos importar nossos bancos de dados"
   ]
  },
  {
   "cell_type": "markdown",
   "metadata": {},
   "source": [
    "# Lidando com nossos Dataframes\n",
    "- Importar banco de dados;\n",
    "- Leitura dos arquivos csv;\n",
    "- Cálculo da média e desvios padrões;\n",
    "- Lidar com valores NaN;"
   ]
  },
  {
   "cell_type": "markdown",
   "metadata": {},
   "source": [
    "### Leitura dos dataframes"
   ]
  },
  {
   "cell_type": "markdown",
   "metadata": {},
   "source": [
    "Nos foi fornecido dois dataframes diferentes, um para treinamento e outro para testes, usaremos a função read_cvs() para leitura dos dados e passaremos como parâmetro 'na_values=['?']' para que os valores registrados como '?' sejam substituídos por NaN (not a number)"
   ]
  },
  {
   "cell_type": "code",
   "execution_count": 30,
   "metadata": {},
   "outputs": [],
   "source": [
    "train_frame = read_csv(\"https://raw.githubusercontent.com/zahangirbd/medical_data_for_classification/master/data/Hepatitis/hepatitis.data.train.csv\", na_values=['?'])\n",
    "test_frame = read_csv(\"https://raw.githubusercontent.com/zahangirbd/medical_data_for_classification/master/data/Hepatitis/hepatitis.data.test.csv\", na_values=['?'])"
   ]
  },
  {
   "cell_type": "markdown",
   "metadata": {},
   "source": [
    "### Visualizando dados"
   ]
  },
  {
   "cell_type": "markdown",
   "metadata": {},
   "source": [
    "- dados de treinamento:"
   ]
  },
  {
   "cell_type": "code",
   "execution_count": 31,
   "metadata": {},
   "outputs": [
    {
     "data": {
      "text/html": [
       "<div>\n",
       "<style scoped>\n",
       "    .dataframe tbody tr th:only-of-type {\n",
       "        vertical-align: middle;\n",
       "    }\n",
       "\n",
       "    .dataframe tbody tr th {\n",
       "        vertical-align: top;\n",
       "    }\n",
       "\n",
       "    .dataframe thead th {\n",
       "        text-align: right;\n",
       "    }\n",
       "</style>\n",
       "<table border=\"1\" class=\"dataframe\">\n",
       "  <thead>\n",
       "    <tr style=\"text-align: right;\">\n",
       "      <th></th>\n",
       "      <th>AGE</th>\n",
       "      <th>SEX</th>\n",
       "      <th>STEROID</th>\n",
       "      <th>ANTIVIRALS</th>\n",
       "      <th>FATIGUE</th>\n",
       "      <th>MALAISE</th>\n",
       "      <th>ANOREXIA</th>\n",
       "      <th>LIVER_BIG</th>\n",
       "      <th>LIVER_FIRM</th>\n",
       "      <th>SPLEEN_PALPABLE</th>\n",
       "      <th>SPIDERS</th>\n",
       "      <th>ASCITES</th>\n",
       "      <th>VARICES</th>\n",
       "      <th>BILIRUBIN</th>\n",
       "      <th>ALK_PHOSPHATE</th>\n",
       "      <th>SGOT</th>\n",
       "      <th>ALBUMIN</th>\n",
       "      <th>PROTIME</th>\n",
       "      <th>HISTOLOGY</th>\n",
       "      <th>CLASS</th>\n",
       "    </tr>\n",
       "  </thead>\n",
       "  <tbody>\n",
       "    <tr>\n",
       "      <th>0</th>\n",
       "      <td>23</td>\n",
       "      <td>1</td>\n",
       "      <td>2</td>\n",
       "      <td>2</td>\n",
       "      <td>2.0</td>\n",
       "      <td>2.0</td>\n",
       "      <td>2.0</td>\n",
       "      <td>2.0</td>\n",
       "      <td>2.0</td>\n",
       "      <td>2.0</td>\n",
       "      <td>2.0</td>\n",
       "      <td>2.0</td>\n",
       "      <td>2.0</td>\n",
       "      <td>1.0</td>\n",
       "      <td>NaN</td>\n",
       "      <td>NaN</td>\n",
       "      <td>NaN</td>\n",
       "      <td>NaN</td>\n",
       "      <td>1</td>\n",
       "      <td>2</td>\n",
       "    </tr>\n",
       "    <tr>\n",
       "      <th>1</th>\n",
       "      <td>43</td>\n",
       "      <td>1</td>\n",
       "      <td>2</td>\n",
       "      <td>2</td>\n",
       "      <td>1.0</td>\n",
       "      <td>2.0</td>\n",
       "      <td>2.0</td>\n",
       "      <td>2.0</td>\n",
       "      <td>2.0</td>\n",
       "      <td>1.0</td>\n",
       "      <td>1.0</td>\n",
       "      <td>1.0</td>\n",
       "      <td>2.0</td>\n",
       "      <td>1.2</td>\n",
       "      <td>100.0</td>\n",
       "      <td>19.0</td>\n",
       "      <td>3.1</td>\n",
       "      <td>42.0</td>\n",
       "      <td>2</td>\n",
       "      <td>1</td>\n",
       "    </tr>\n",
       "    <tr>\n",
       "      <th>2</th>\n",
       "      <td>48</td>\n",
       "      <td>1</td>\n",
       "      <td>1</td>\n",
       "      <td>2</td>\n",
       "      <td>1.0</td>\n",
       "      <td>1.0</td>\n",
       "      <td>2.0</td>\n",
       "      <td>2.0</td>\n",
       "      <td>1.0</td>\n",
       "      <td>2.0</td>\n",
       "      <td>1.0</td>\n",
       "      <td>1.0</td>\n",
       "      <td>1.0</td>\n",
       "      <td>4.8</td>\n",
       "      <td>123.0</td>\n",
       "      <td>157.0</td>\n",
       "      <td>2.7</td>\n",
       "      <td>31.0</td>\n",
       "      <td>2</td>\n",
       "      <td>1</td>\n",
       "    </tr>\n",
       "    <tr>\n",
       "      <th>3</th>\n",
       "      <td>34</td>\n",
       "      <td>1</td>\n",
       "      <td>1</td>\n",
       "      <td>2</td>\n",
       "      <td>1.0</td>\n",
       "      <td>1.0</td>\n",
       "      <td>2.0</td>\n",
       "      <td>1.0</td>\n",
       "      <td>1.0</td>\n",
       "      <td>2.0</td>\n",
       "      <td>1.0</td>\n",
       "      <td>2.0</td>\n",
       "      <td>2.0</td>\n",
       "      <td>2.8</td>\n",
       "      <td>127.0</td>\n",
       "      <td>182.0</td>\n",
       "      <td>NaN</td>\n",
       "      <td>NaN</td>\n",
       "      <td>1</td>\n",
       "      <td>1</td>\n",
       "    </tr>\n",
       "    <tr>\n",
       "      <th>4</th>\n",
       "      <td>36</td>\n",
       "      <td>1</td>\n",
       "      <td>1</td>\n",
       "      <td>2</td>\n",
       "      <td>2.0</td>\n",
       "      <td>2.0</td>\n",
       "      <td>2.0</td>\n",
       "      <td>2.0</td>\n",
       "      <td>2.0</td>\n",
       "      <td>1.0</td>\n",
       "      <td>2.0</td>\n",
       "      <td>2.0</td>\n",
       "      <td>2.0</td>\n",
       "      <td>0.8</td>\n",
       "      <td>85.0</td>\n",
       "      <td>44.0</td>\n",
       "      <td>4.2</td>\n",
       "      <td>85.0</td>\n",
       "      <td>1</td>\n",
       "      <td>2</td>\n",
       "    </tr>\n",
       "    <tr>\n",
       "      <th>...</th>\n",
       "      <td>...</td>\n",
       "      <td>...</td>\n",
       "      <td>...</td>\n",
       "      <td>...</td>\n",
       "      <td>...</td>\n",
       "      <td>...</td>\n",
       "      <td>...</td>\n",
       "      <td>...</td>\n",
       "      <td>...</td>\n",
       "      <td>...</td>\n",
       "      <td>...</td>\n",
       "      <td>...</td>\n",
       "      <td>...</td>\n",
       "      <td>...</td>\n",
       "      <td>...</td>\n",
       "      <td>...</td>\n",
       "      <td>...</td>\n",
       "      <td>...</td>\n",
       "      <td>...</td>\n",
       "      <td>...</td>\n",
       "    </tr>\n",
       "    <tr>\n",
       "      <th>75</th>\n",
       "      <td>32</td>\n",
       "      <td>1</td>\n",
       "      <td>2</td>\n",
       "      <td>1</td>\n",
       "      <td>1.0</td>\n",
       "      <td>2.0</td>\n",
       "      <td>2.0</td>\n",
       "      <td>2.0</td>\n",
       "      <td>1.0</td>\n",
       "      <td>2.0</td>\n",
       "      <td>1.0</td>\n",
       "      <td>2.0</td>\n",
       "      <td>2.0</td>\n",
       "      <td>1.0</td>\n",
       "      <td>59.0</td>\n",
       "      <td>249.0</td>\n",
       "      <td>3.7</td>\n",
       "      <td>54.0</td>\n",
       "      <td>1</td>\n",
       "      <td>2</td>\n",
       "    </tr>\n",
       "    <tr>\n",
       "      <th>76</th>\n",
       "      <td>28</td>\n",
       "      <td>1</td>\n",
       "      <td>2</td>\n",
       "      <td>2</td>\n",
       "      <td>2.0</td>\n",
       "      <td>2.0</td>\n",
       "      <td>2.0</td>\n",
       "      <td>2.0</td>\n",
       "      <td>2.0</td>\n",
       "      <td>2.0</td>\n",
       "      <td>2.0</td>\n",
       "      <td>2.0</td>\n",
       "      <td>2.0</td>\n",
       "      <td>0.7</td>\n",
       "      <td>85.0</td>\n",
       "      <td>31.0</td>\n",
       "      <td>4.9</td>\n",
       "      <td>NaN</td>\n",
       "      <td>1</td>\n",
       "      <td>2</td>\n",
       "    </tr>\n",
       "    <tr>\n",
       "      <th>77</th>\n",
       "      <td>61</td>\n",
       "      <td>1</td>\n",
       "      <td>1</td>\n",
       "      <td>2</td>\n",
       "      <td>1.0</td>\n",
       "      <td>1.0</td>\n",
       "      <td>2.0</td>\n",
       "      <td>NaN</td>\n",
       "      <td>NaN</td>\n",
       "      <td>2.0</td>\n",
       "      <td>1.0</td>\n",
       "      <td>2.0</td>\n",
       "      <td>2.0</td>\n",
       "      <td>NaN</td>\n",
       "      <td>NaN</td>\n",
       "      <td>NaN</td>\n",
       "      <td>NaN</td>\n",
       "      <td>NaN</td>\n",
       "      <td>2</td>\n",
       "      <td>1</td>\n",
       "    </tr>\n",
       "    <tr>\n",
       "      <th>78</th>\n",
       "      <td>24</td>\n",
       "      <td>1</td>\n",
       "      <td>1</td>\n",
       "      <td>2</td>\n",
       "      <td>1.0</td>\n",
       "      <td>2.0</td>\n",
       "      <td>2.0</td>\n",
       "      <td>2.0</td>\n",
       "      <td>2.0</td>\n",
       "      <td>2.0</td>\n",
       "      <td>2.0</td>\n",
       "      <td>2.0</td>\n",
       "      <td>2.0</td>\n",
       "      <td>1.0</td>\n",
       "      <td>NaN</td>\n",
       "      <td>34.0</td>\n",
       "      <td>4.1</td>\n",
       "      <td>NaN</td>\n",
       "      <td>2</td>\n",
       "      <td>2</td>\n",
       "    </tr>\n",
       "    <tr>\n",
       "      <th>79</th>\n",
       "      <td>50</td>\n",
       "      <td>1</td>\n",
       "      <td>2</td>\n",
       "      <td>2</td>\n",
       "      <td>2.0</td>\n",
       "      <td>2.0</td>\n",
       "      <td>2.0</td>\n",
       "      <td>2.0</td>\n",
       "      <td>2.0</td>\n",
       "      <td>2.0</td>\n",
       "      <td>2.0</td>\n",
       "      <td>2.0</td>\n",
       "      <td>2.0</td>\n",
       "      <td>1.5</td>\n",
       "      <td>100.0</td>\n",
       "      <td>100.0</td>\n",
       "      <td>5.3</td>\n",
       "      <td>NaN</td>\n",
       "      <td>1</td>\n",
       "      <td>2</td>\n",
       "    </tr>\n",
       "  </tbody>\n",
       "</table>\n",
       "<p>80 rows × 20 columns</p>\n",
       "</div>"
      ],
      "text/plain": [
       "    AGE  SEX  STEROID  ANTIVIRALS  FATIGUE  MALAISE  ANOREXIA  LIVER_BIG  \\\n",
       "0    23    1        2           2      2.0      2.0       2.0        2.0   \n",
       "1    43    1        2           2      1.0      2.0       2.0        2.0   \n",
       "2    48    1        1           2      1.0      1.0       2.0        2.0   \n",
       "3    34    1        1           2      1.0      1.0       2.0        1.0   \n",
       "4    36    1        1           2      2.0      2.0       2.0        2.0   \n",
       "..  ...  ...      ...         ...      ...      ...       ...        ...   \n",
       "75   32    1        2           1      1.0      2.0       2.0        2.0   \n",
       "76   28    1        2           2      2.0      2.0       2.0        2.0   \n",
       "77   61    1        1           2      1.0      1.0       2.0        NaN   \n",
       "78   24    1        1           2      1.0      2.0       2.0        2.0   \n",
       "79   50    1        2           2      2.0      2.0       2.0        2.0   \n",
       "\n",
       "    LIVER_FIRM  SPLEEN_PALPABLE  SPIDERS  ASCITES  VARICES  BILIRUBIN  \\\n",
       "0          2.0              2.0      2.0      2.0      2.0        1.0   \n",
       "1          2.0              1.0      1.0      1.0      2.0        1.2   \n",
       "2          1.0              2.0      1.0      1.0      1.0        4.8   \n",
       "3          1.0              2.0      1.0      2.0      2.0        2.8   \n",
       "4          2.0              1.0      2.0      2.0      2.0        0.8   \n",
       "..         ...              ...      ...      ...      ...        ...   \n",
       "75         1.0              2.0      1.0      2.0      2.0        1.0   \n",
       "76         2.0              2.0      2.0      2.0      2.0        0.7   \n",
       "77         NaN              2.0      1.0      2.0      2.0        NaN   \n",
       "78         2.0              2.0      2.0      2.0      2.0        1.0   \n",
       "79         2.0              2.0      2.0      2.0      2.0        1.5   \n",
       "\n",
       "    ALK_PHOSPHATE   SGOT  ALBUMIN  PROTIME  HISTOLOGY  CLASS  \n",
       "0             NaN    NaN      NaN      NaN          1      2  \n",
       "1           100.0   19.0      3.1     42.0          2      1  \n",
       "2           123.0  157.0      2.7     31.0          2      1  \n",
       "3           127.0  182.0      NaN      NaN          1      1  \n",
       "4            85.0   44.0      4.2     85.0          1      2  \n",
       "..            ...    ...      ...      ...        ...    ...  \n",
       "75           59.0  249.0      3.7     54.0          1      2  \n",
       "76           85.0   31.0      4.9      NaN          1      2  \n",
       "77            NaN    NaN      NaN      NaN          2      1  \n",
       "78            NaN   34.0      4.1      NaN          2      2  \n",
       "79          100.0  100.0      5.3      NaN          1      2  \n",
       "\n",
       "[80 rows x 20 columns]"
      ]
     },
     "execution_count": 31,
     "metadata": {},
     "output_type": "execute_result"
    }
   ],
   "source": [
    "train_frame"
   ]
  },
  {
   "cell_type": "markdown",
   "metadata": {},
   "source": [
    "- dados de teste:"
   ]
  },
  {
   "cell_type": "code",
   "execution_count": 32,
   "metadata": {},
   "outputs": [
    {
     "data": {
      "text/html": [
       "<div>\n",
       "<style scoped>\n",
       "    .dataframe tbody tr th:only-of-type {\n",
       "        vertical-align: middle;\n",
       "    }\n",
       "\n",
       "    .dataframe tbody tr th {\n",
       "        vertical-align: top;\n",
       "    }\n",
       "\n",
       "    .dataframe thead th {\n",
       "        text-align: right;\n",
       "    }\n",
       "</style>\n",
       "<table border=\"1\" class=\"dataframe\">\n",
       "  <thead>\n",
       "    <tr style=\"text-align: right;\">\n",
       "      <th></th>\n",
       "      <th>AGE</th>\n",
       "      <th>SEX</th>\n",
       "      <th>STEROID</th>\n",
       "      <th>ANTIVIRALS</th>\n",
       "      <th>FATIGUE</th>\n",
       "      <th>MALAISE</th>\n",
       "      <th>ANOREXIA</th>\n",
       "      <th>LIVER_BIG</th>\n",
       "      <th>LIVER_FIRM</th>\n",
       "      <th>SPLEEN_PALPABLE</th>\n",
       "      <th>SPIDERS</th>\n",
       "      <th>ASCITES</th>\n",
       "      <th>VARICES</th>\n",
       "      <th>BILIRUBIN</th>\n",
       "      <th>ALK_PHOSPHATE</th>\n",
       "      <th>SGOT</th>\n",
       "      <th>ALBUMIN</th>\n",
       "      <th>PROTIME</th>\n",
       "      <th>HISTOLOGY</th>\n",
       "      <th>CLASS</th>\n",
       "    </tr>\n",
       "  </thead>\n",
       "  <tbody>\n",
       "    <tr>\n",
       "      <th>0</th>\n",
       "      <td>40</td>\n",
       "      <td>1</td>\n",
       "      <td>2.0</td>\n",
       "      <td>1</td>\n",
       "      <td>1</td>\n",
       "      <td>2</td>\n",
       "      <td>2</td>\n",
       "      <td>2.0</td>\n",
       "      <td>1.0</td>\n",
       "      <td>1.0</td>\n",
       "      <td>2.0</td>\n",
       "      <td>2.0</td>\n",
       "      <td>2.0</td>\n",
       "      <td>1.2</td>\n",
       "      <td>85.0</td>\n",
       "      <td>31</td>\n",
       "      <td>4.0</td>\n",
       "      <td>100.0</td>\n",
       "      <td>1</td>\n",
       "      <td>2</td>\n",
       "    </tr>\n",
       "    <tr>\n",
       "      <th>1</th>\n",
       "      <td>39</td>\n",
       "      <td>1</td>\n",
       "      <td>1.0</td>\n",
       "      <td>1</td>\n",
       "      <td>1</td>\n",
       "      <td>1</td>\n",
       "      <td>2</td>\n",
       "      <td>2.0</td>\n",
       "      <td>1.0</td>\n",
       "      <td>2.0</td>\n",
       "      <td>2.0</td>\n",
       "      <td>2.0</td>\n",
       "      <td>2.0</td>\n",
       "      <td>2.3</td>\n",
       "      <td>280.0</td>\n",
       "      <td>98</td>\n",
       "      <td>3.8</td>\n",
       "      <td>40.0</td>\n",
       "      <td>1</td>\n",
       "      <td>1</td>\n",
       "    </tr>\n",
       "    <tr>\n",
       "      <th>2</th>\n",
       "      <td>45</td>\n",
       "      <td>1</td>\n",
       "      <td>2.0</td>\n",
       "      <td>1</td>\n",
       "      <td>2</td>\n",
       "      <td>2</td>\n",
       "      <td>2</td>\n",
       "      <td>2.0</td>\n",
       "      <td>2.0</td>\n",
       "      <td>2.0</td>\n",
       "      <td>2.0</td>\n",
       "      <td>2.0</td>\n",
       "      <td>2.0</td>\n",
       "      <td>1.3</td>\n",
       "      <td>85.0</td>\n",
       "      <td>44</td>\n",
       "      <td>4.2</td>\n",
       "      <td>85.0</td>\n",
       "      <td>2</td>\n",
       "      <td>2</td>\n",
       "    </tr>\n",
       "    <tr>\n",
       "      <th>3</th>\n",
       "      <td>54</td>\n",
       "      <td>1</td>\n",
       "      <td>1.0</td>\n",
       "      <td>2</td>\n",
       "      <td>1</td>\n",
       "      <td>1</td>\n",
       "      <td>2</td>\n",
       "      <td>2.0</td>\n",
       "      <td>2.0</td>\n",
       "      <td>2.0</td>\n",
       "      <td>2.0</td>\n",
       "      <td>1.0</td>\n",
       "      <td>2.0</td>\n",
       "      <td>1.2</td>\n",
       "      <td>85.0</td>\n",
       "      <td>92</td>\n",
       "      <td>3.1</td>\n",
       "      <td>66.0</td>\n",
       "      <td>2</td>\n",
       "      <td>2</td>\n",
       "    </tr>\n",
       "    <tr>\n",
       "      <th>4</th>\n",
       "      <td>78</td>\n",
       "      <td>1</td>\n",
       "      <td>2.0</td>\n",
       "      <td>2</td>\n",
       "      <td>1</td>\n",
       "      <td>2</td>\n",
       "      <td>2</td>\n",
       "      <td>2.0</td>\n",
       "      <td>2.0</td>\n",
       "      <td>2.0</td>\n",
       "      <td>2.0</td>\n",
       "      <td>2.0</td>\n",
       "      <td>2.0</td>\n",
       "      <td>0.7</td>\n",
       "      <td>96.0</td>\n",
       "      <td>32</td>\n",
       "      <td>4.0</td>\n",
       "      <td>NaN</td>\n",
       "      <td>1</td>\n",
       "      <td>2</td>\n",
       "    </tr>\n",
       "    <tr>\n",
       "      <th>...</th>\n",
       "      <td>...</td>\n",
       "      <td>...</td>\n",
       "      <td>...</td>\n",
       "      <td>...</td>\n",
       "      <td>...</td>\n",
       "      <td>...</td>\n",
       "      <td>...</td>\n",
       "      <td>...</td>\n",
       "      <td>...</td>\n",
       "      <td>...</td>\n",
       "      <td>...</td>\n",
       "      <td>...</td>\n",
       "      <td>...</td>\n",
       "      <td>...</td>\n",
       "      <td>...</td>\n",
       "      <td>...</td>\n",
       "      <td>...</td>\n",
       "      <td>...</td>\n",
       "      <td>...</td>\n",
       "      <td>...</td>\n",
       "    </tr>\n",
       "    <tr>\n",
       "      <th>70</th>\n",
       "      <td>54</td>\n",
       "      <td>1</td>\n",
       "      <td>1.0</td>\n",
       "      <td>2</td>\n",
       "      <td>1</td>\n",
       "      <td>1</td>\n",
       "      <td>2</td>\n",
       "      <td>NaN</td>\n",
       "      <td>NaN</td>\n",
       "      <td>1.0</td>\n",
       "      <td>2.0</td>\n",
       "      <td>1.0</td>\n",
       "      <td>2.0</td>\n",
       "      <td>3.9</td>\n",
       "      <td>120.0</td>\n",
       "      <td>28</td>\n",
       "      <td>3.5</td>\n",
       "      <td>43.0</td>\n",
       "      <td>2</td>\n",
       "      <td>1</td>\n",
       "    </tr>\n",
       "    <tr>\n",
       "      <th>71</th>\n",
       "      <td>47</td>\n",
       "      <td>1</td>\n",
       "      <td>2.0</td>\n",
       "      <td>2</td>\n",
       "      <td>2</td>\n",
       "      <td>2</td>\n",
       "      <td>2</td>\n",
       "      <td>2.0</td>\n",
       "      <td>2.0</td>\n",
       "      <td>2.0</td>\n",
       "      <td>1.0</td>\n",
       "      <td>2.0</td>\n",
       "      <td>1.0</td>\n",
       "      <td>2.0</td>\n",
       "      <td>84.0</td>\n",
       "      <td>23</td>\n",
       "      <td>4.2</td>\n",
       "      <td>66.0</td>\n",
       "      <td>2</td>\n",
       "      <td>1</td>\n",
       "    </tr>\n",
       "    <tr>\n",
       "      <th>72</th>\n",
       "      <td>36</td>\n",
       "      <td>1</td>\n",
       "      <td>1.0</td>\n",
       "      <td>2</td>\n",
       "      <td>2</td>\n",
       "      <td>2</td>\n",
       "      <td>2</td>\n",
       "      <td>2.0</td>\n",
       "      <td>2.0</td>\n",
       "      <td>2.0</td>\n",
       "      <td>2.0</td>\n",
       "      <td>2.0</td>\n",
       "      <td>2.0</td>\n",
       "      <td>1.1</td>\n",
       "      <td>141.0</td>\n",
       "      <td>75</td>\n",
       "      <td>3.3</td>\n",
       "      <td>NaN</td>\n",
       "      <td>2</td>\n",
       "      <td>2</td>\n",
       "    </tr>\n",
       "    <tr>\n",
       "      <th>73</th>\n",
       "      <td>25</td>\n",
       "      <td>2</td>\n",
       "      <td>1.0</td>\n",
       "      <td>1</td>\n",
       "      <td>2</td>\n",
       "      <td>2</td>\n",
       "      <td>2</td>\n",
       "      <td>2.0</td>\n",
       "      <td>2.0</td>\n",
       "      <td>2.0</td>\n",
       "      <td>2.0</td>\n",
       "      <td>2.0</td>\n",
       "      <td>2.0</td>\n",
       "      <td>0.4</td>\n",
       "      <td>45.0</td>\n",
       "      <td>18</td>\n",
       "      <td>4.3</td>\n",
       "      <td>70.0</td>\n",
       "      <td>1</td>\n",
       "      <td>2</td>\n",
       "    </tr>\n",
       "    <tr>\n",
       "      <th>74</th>\n",
       "      <td>49</td>\n",
       "      <td>1</td>\n",
       "      <td>2.0</td>\n",
       "      <td>2</td>\n",
       "      <td>1</td>\n",
       "      <td>1</td>\n",
       "      <td>2</td>\n",
       "      <td>2.0</td>\n",
       "      <td>2.0</td>\n",
       "      <td>2.0</td>\n",
       "      <td>2.0</td>\n",
       "      <td>2.0</td>\n",
       "      <td>2.0</td>\n",
       "      <td>0.8</td>\n",
       "      <td>103.0</td>\n",
       "      <td>43</td>\n",
       "      <td>3.5</td>\n",
       "      <td>66.0</td>\n",
       "      <td>1</td>\n",
       "      <td>2</td>\n",
       "    </tr>\n",
       "  </tbody>\n",
       "</table>\n",
       "<p>75 rows × 20 columns</p>\n",
       "</div>"
      ],
      "text/plain": [
       "    AGE  SEX  STEROID  ANTIVIRALS  FATIGUE  MALAISE  ANOREXIA  LIVER_BIG  \\\n",
       "0    40    1      2.0           1        1        2         2        2.0   \n",
       "1    39    1      1.0           1        1        1         2        2.0   \n",
       "2    45    1      2.0           1        2        2         2        2.0   \n",
       "3    54    1      1.0           2        1        1         2        2.0   \n",
       "4    78    1      2.0           2        1        2         2        2.0   \n",
       "..  ...  ...      ...         ...      ...      ...       ...        ...   \n",
       "70   54    1      1.0           2        1        1         2        NaN   \n",
       "71   47    1      2.0           2        2        2         2        2.0   \n",
       "72   36    1      1.0           2        2        2         2        2.0   \n",
       "73   25    2      1.0           1        2        2         2        2.0   \n",
       "74   49    1      2.0           2        1        1         2        2.0   \n",
       "\n",
       "    LIVER_FIRM  SPLEEN_PALPABLE  SPIDERS  ASCITES  VARICES  BILIRUBIN  \\\n",
       "0          1.0              1.0      2.0      2.0      2.0        1.2   \n",
       "1          1.0              2.0      2.0      2.0      2.0        2.3   \n",
       "2          2.0              2.0      2.0      2.0      2.0        1.3   \n",
       "3          2.0              2.0      2.0      1.0      2.0        1.2   \n",
       "4          2.0              2.0      2.0      2.0      2.0        0.7   \n",
       "..         ...              ...      ...      ...      ...        ...   \n",
       "70         NaN              1.0      2.0      1.0      2.0        3.9   \n",
       "71         2.0              2.0      1.0      2.0      1.0        2.0   \n",
       "72         2.0              2.0      2.0      2.0      2.0        1.1   \n",
       "73         2.0              2.0      2.0      2.0      2.0        0.4   \n",
       "74         2.0              2.0      2.0      2.0      2.0        0.8   \n",
       "\n",
       "    ALK_PHOSPHATE  SGOT  ALBUMIN  PROTIME  HISTOLOGY  CLASS  \n",
       "0            85.0    31      4.0    100.0          1      2  \n",
       "1           280.0    98      3.8     40.0          1      1  \n",
       "2            85.0    44      4.2     85.0          2      2  \n",
       "3            85.0    92      3.1     66.0          2      2  \n",
       "4            96.0    32      4.0      NaN          1      2  \n",
       "..            ...   ...      ...      ...        ...    ...  \n",
       "70          120.0    28      3.5     43.0          2      1  \n",
       "71           84.0    23      4.2     66.0          2      1  \n",
       "72          141.0    75      3.3      NaN          2      2  \n",
       "73           45.0    18      4.3     70.0          1      2  \n",
       "74          103.0    43      3.5     66.0          1      2  \n",
       "\n",
       "[75 rows x 20 columns]"
      ]
     },
     "execution_count": 32,
     "metadata": {},
     "output_type": "execute_result"
    }
   ],
   "source": [
    "test_frame"
   ]
  },
  {
   "cell_type": "markdown",
   "metadata": {},
   "source": [
    "### Calculando Média e desvio Padrão"
   ]
  },
  {
   "cell_type": "markdown",
   "metadata": {},
   "source": [
    "- Dados de treinamento:"
   ]
  },
  {
   "cell_type": "code",
   "execution_count": 33,
   "metadata": {},
   "outputs": [
    {
     "name": "stdout",
     "output_type": "stream",
     "text": [
      "media de AGE dados de treinamento: 39.7375\n",
      "desvio padrão de AGE dados de treinamento: 12.65185607036835 \n",
      "\n",
      "media de SEX dados de treinamento: 1.1125\n",
      "desvio padrão de SEX dados de treinamento: 0.3179742048291164 \n",
      "\n",
      "media de STEROID dados de treinamento: 1.5\n",
      "desvio padrão de STEROID dados de treinamento: 0.5031546054266276 \n",
      "\n",
      "media de ANTIVIRALS dados de treinamento: 1.875\n",
      "desvio padrão de ANTIVIRALS dados de treinamento: 0.33280548924392167 \n",
      "\n",
      "media de FATIGUE dados de treinamento: 1.3291139240506329\n",
      "desvio padrão de FATIGUE dados de treinamento: 0.47289395426789116 \n",
      "\n",
      "media de MALAISE dados de treinamento: 1.6075949367088607\n",
      "desvio padrão de MALAISE dados de treinamento: 0.49140618529724817 \n",
      "\n",
      "media de ANOREXIA dados de treinamento: 1.7848101265822784\n",
      "desvio padrão de ANOREXIA dados de treinamento: 0.413579932929269 \n",
      "\n",
      "media de LIVER_BIG dados de treinamento: 1.7866666666666666\n",
      "desvio padrão de LIVER_BIG dados de treinamento: 0.41241979837307774 \n",
      "\n",
      "media de LIVER_FIRM dados de treinamento: 1.5405405405405406\n",
      "desvio padrão de LIVER_FIRM dados de treinamento: 0.5017555260512748 \n",
      "\n",
      "media de SPLEEN_PALPABLE dados de treinamento: 1.7532467532467533\n",
      "desvio padrão de SPLEEN_PALPABLE dados de treinamento: 0.43394894666502914 \n",
      "\n",
      "media de SPIDERS dados de treinamento: 1.6493506493506493\n",
      "desvio padrão de SPIDERS dados de treinamento: 0.48030236546295463 \n",
      "\n",
      "media de ASCITES dados de treinamento: 1.8571428571428572\n",
      "desvio padrão de ASCITES dados de treinamento: 0.3522217346728334 \n",
      "\n",
      "media de VARICES dados de treinamento: 1.844155844155844\n",
      "desvio padrão de VARICES dados de treinamento: 0.36508596914523056 \n",
      "\n",
      "media de BILIRUBIN dados de treinamento: 1.4558441558441557\n",
      "desvio padrão de BILIRUBIN dados de treinamento: 1.3516552723949358 \n",
      "\n",
      "media de ALK_PHOSPHATE dados de treinamento: 114.0952380952381\n",
      "desvio padrão de ALK_PHOSPHATE dados de treinamento: 58.58649912893185 \n",
      "\n",
      "media de SGOT dados de treinamento: 98.65789473684211\n",
      "desvio padrão de SGOT dados de treinamento: 110.58831193594604 \n",
      "\n",
      "media de ALBUMIN dados de treinamento: 3.8285714285714287\n",
      "desvio padrão de ALBUMIN dados de treinamento: 0.7291334656741834 \n",
      "\n",
      "media de PROTIME dados de treinamento: 59.95238095238095\n",
      "desvio padrão de PROTIME dados de treinamento: 22.971830449330742 \n",
      "\n",
      "media de HISTOLOGY dados de treinamento: 1.5375\n",
      "desvio padrão de HISTOLOGY dados de treinamento: 0.501737487466418 \n",
      "\n",
      "media de CLASS dados de treinamento: 1.7875\n",
      "desvio padrão de CLASS dados de treinamento: 0.4116576554814154 \n",
      "\n"
     ]
    }
   ],
   "source": [
    "for attribute in train_frame:\n",
    "    print(f'media de {attribute} dados de treinamento: {train_frame[attribute].mean()}')\n",
    "    print(f'desvio padrão de {attribute} dados de treinamento: {train_frame[attribute].std()} \\n')"
   ]
  },
  {
   "cell_type": "markdown",
   "metadata": {},
   "source": [
    "- Dados de teste:"
   ]
  },
  {
   "cell_type": "code",
   "execution_count": 34,
   "metadata": {},
   "outputs": [
    {
     "name": "stdout",
     "output_type": "stream",
     "text": [
      "media de AGE dados de teste: 42.76\n",
      "desvio padrão de AGE dados de teste: 12.366956845627854 \n",
      "\n",
      "media de SEX dados de teste: 1.0933333333333333\n",
      "desvio padrão de SEX dados de teste: 0.29285792761297375 \n",
      "\n",
      "media de STEROID dados de teste: 1.5135135135135136\n",
      "desvio padrão de STEROID dados de teste: 0.5032291137352586 \n",
      "\n",
      "media de ANTIVIRALS dados de teste: 1.8133333333333332\n",
      "desvio padrão de ANTIVIRALS dados de teste: 0.39226760492535434 \n",
      "\n",
      "media de FATIGUE dados de teste: 1.3733333333333333\n",
      "desvio padrão de FATIGUE dados de teste: 0.4869467292395721 \n",
      "\n",
      "media de MALAISE dados de teste: 1.6\n",
      "desvio padrão de MALAISE dados de teste: 0.4931969619160719 \n",
      "\n",
      "media de ANOREXIA dados de teste: 1.8\n",
      "desvio padrão de ANOREXIA dados de teste: 0.4026936331284146 \n",
      "\n",
      "media de LIVER_BIG dados de teste: 1.8714285714285714\n",
      "desvio padrão de LIVER_BIG dados de teste: 0.3371418043988196 \n",
      "\n",
      "media de LIVER_FIRM dados de teste: 1.6285714285714286\n",
      "desvio padrão de LIVER_FIRM dados de teste: 0.48667545866870393 \n",
      "\n",
      "media de SPLEEN_PALPABLE dados de teste: 1.8493150684931507\n",
      "desvio padrão de SPLEEN_PALPABLE dados de teste: 0.3602172522208851 \n",
      "\n",
      "media de SPIDERS dados de teste: 1.6712328767123288\n",
      "desvio padrão de SPIDERS dados de teste: 0.4730161648796401 \n",
      "\n",
      "media de ASCITES dados de teste: 1.8767123287671232\n",
      "desvio padrão de ASCITES dados de teste: 0.3310423554409472 \n",
      "\n",
      "media de VARICES dados de teste: 1.917808219178082\n",
      "desvio padrão de VARICES dados de teste: 0.2765574411670028 \n",
      "\n",
      "media de BILIRUBIN dados de teste: 1.3972222222222224\n",
      "desvio padrão de BILIRUBIN dados de teste: 1.0513535504053437 \n",
      "\n",
      "media de ALK_PHOSPHATE dados de teste: 96.55555555555556\n",
      "desvio padrão de ALK_PHOSPHATE dados de teste: 41.95572850186091 \n",
      "\n",
      "media de SGOT dados de teste: 72.96\n",
      "desvio padrão de SGOT dados de teste: 59.664702771041746 \n",
      "\n",
      "media de ALBUMIN dados de teste: 3.8057971014492757\n",
      "desvio padrão de ALBUMIN dados de teste: 0.567213015793531 \n",
      "\n",
      "media de PROTIME dados de teste: 63.58695652173913\n",
      "desvio padrão de PROTIME dados de teste: 22.900340693202235 \n",
      "\n",
      "media de HISTOLOGY dados de teste: 1.36\n",
      "desvio padrão de HISTOLOGY dados de teste: 0.4832323597540975 \n",
      "\n",
      "media de CLASS dados de teste: 1.8\n",
      "desvio padrão de CLASS dados de teste: 0.4026936331284146 \n",
      "\n"
     ]
    }
   ],
   "source": [
    "for attribute in test_frame:\n",
    "    print(f'media de {attribute} dados de teste: {test_frame[attribute].mean()}')\n",
    "    print(f'desvio padrão de {attribute} dados de teste: {test_frame[attribute].std()} \\n')"
   ]
  },
  {
   "cell_type": "markdown",
   "metadata": {},
   "source": [
    "### Lidando com valores NaN\n",
    "Antes de seguirmos, precisamos decidir o que fazer com os valores NaN do nosso dataframe. Primeiro vamos descobrir quantos deles temos em cada um dos atributos da nossa tabela."
   ]
  },
  {
   "cell_type": "markdown",
   "metadata": {},
   "source": [
    "- Dados de treinamento:"
   ]
  },
  {
   "cell_type": "code",
   "execution_count": 35,
   "metadata": {},
   "outputs": [
    {
     "data": {
      "text/plain": [
       "AGE                 0\n",
       "SEX                 0\n",
       "STEROID             0\n",
       "ANTIVIRALS          0\n",
       "FATIGUE             1\n",
       "MALAISE             1\n",
       "ANOREXIA            1\n",
       "LIVER_BIG           5\n",
       "LIVER_FIRM          6\n",
       "SPLEEN_PALPABLE     3\n",
       "SPIDERS             3\n",
       "ASCITES             3\n",
       "VARICES             3\n",
       "BILIRUBIN           3\n",
       "ALK_PHOSPHATE      17\n",
       "SGOT                4\n",
       "ALBUMIN            10\n",
       "PROTIME            38\n",
       "HISTOLOGY           0\n",
       "CLASS               0\n",
       "dtype: int64"
      ]
     },
     "execution_count": 35,
     "metadata": {},
     "output_type": "execute_result"
    }
   ],
   "source": [
    "train_frame.isnull().sum()"
   ]
  },
  {
   "cell_type": "markdown",
   "metadata": {},
   "source": [
    "- Dados de teste: "
   ]
  },
  {
   "cell_type": "code",
   "execution_count": 36,
   "metadata": {},
   "outputs": [
    {
     "data": {
      "text/plain": [
       "AGE                 0\n",
       "SEX                 0\n",
       "STEROID             1\n",
       "ANTIVIRALS          0\n",
       "FATIGUE             0\n",
       "MALAISE             0\n",
       "ANOREXIA            0\n",
       "LIVER_BIG           5\n",
       "LIVER_FIRM          5\n",
       "SPLEEN_PALPABLE     2\n",
       "SPIDERS             2\n",
       "ASCITES             2\n",
       "VARICES             2\n",
       "BILIRUBIN           3\n",
       "ALK_PHOSPHATE      12\n",
       "SGOT                0\n",
       "ALBUMIN             6\n",
       "PROTIME            29\n",
       "HISTOLOGY           0\n",
       "CLASS               0\n",
       "dtype: int64"
      ]
     },
     "execution_count": 36,
     "metadata": {},
     "output_type": "execute_result"
    }
   ],
   "source": [
    "test_frame.isnull().sum()"
   ]
  },
  {
   "cell_type": "markdown",
   "metadata": {},
   "source": [
    "Como quase todas as colunas possuem algum NaN, excluir as linhas ou colunas pode não ser uma boa estratégia considerando nossa perda de dados. Com isso em mente, vamos substituir os valores NaN nas colunas por sua respectiva média."
   ]
  },
  {
   "cell_type": "markdown",
   "metadata": {},
   "source": [
    "- Dados de treinamento:"
   ]
  },
  {
   "cell_type": "code",
   "execution_count": 37,
   "metadata": {},
   "outputs": [
    {
     "data": {
      "text/plain": [
       "AGE                0\n",
       "SEX                0\n",
       "STEROID            0\n",
       "ANTIVIRALS         0\n",
       "FATIGUE            0\n",
       "MALAISE            0\n",
       "ANOREXIA           0\n",
       "LIVER_BIG          0\n",
       "LIVER_FIRM         0\n",
       "SPLEEN_PALPABLE    0\n",
       "SPIDERS            0\n",
       "ASCITES            0\n",
       "VARICES            0\n",
       "BILIRUBIN          0\n",
       "ALK_PHOSPHATE      0\n",
       "SGOT               0\n",
       "ALBUMIN            0\n",
       "PROTIME            0\n",
       "HISTOLOGY          0\n",
       "CLASS              0\n",
       "dtype: int64"
      ]
     },
     "execution_count": 37,
     "metadata": {},
     "output_type": "execute_result"
    }
   ],
   "source": [
    "for attribute in train_frame:\n",
    "    if train_frame[attribute].isnull().any():\n",
    "        train_frame[attribute] = train_frame[attribute].fillna(train_frame[attribute].mean())\n",
    "train_frame.isnull().sum()"
   ]
  },
  {
   "cell_type": "markdown",
   "metadata": {},
   "source": [
    "- Dados de teste:"
   ]
  },
  {
   "cell_type": "code",
   "execution_count": 38,
   "metadata": {},
   "outputs": [
    {
     "data": {
      "text/plain": [
       "AGE                0\n",
       "SEX                0\n",
       "STEROID            0\n",
       "ANTIVIRALS         0\n",
       "FATIGUE            0\n",
       "MALAISE            0\n",
       "ANOREXIA           0\n",
       "LIVER_BIG          0\n",
       "LIVER_FIRM         0\n",
       "SPLEEN_PALPABLE    0\n",
       "SPIDERS            0\n",
       "ASCITES            0\n",
       "VARICES            0\n",
       "BILIRUBIN          0\n",
       "ALK_PHOSPHATE      0\n",
       "SGOT               0\n",
       "ALBUMIN            0\n",
       "PROTIME            0\n",
       "HISTOLOGY          0\n",
       "CLASS              0\n",
       "dtype: int64"
      ]
     },
     "execution_count": 38,
     "metadata": {},
     "output_type": "execute_result"
    }
   ],
   "source": [
    "for attribute in test_frame:\n",
    "    if test_frame[attribute].isnull().any():\n",
    "        test_frame[attribute] = test_frame[attribute].fillna(test_frame[attribute].mean())\n",
    "test_frame.isnull().sum()"
   ]
  },
  {
   "cell_type": "markdown",
   "metadata": {},
   "source": [
    "# Separação dos dados para validação cruzada\n",
    "Iremos utilizar validação cruzada em 10 rodadas, separando 10% dos nossos dados obtidos no csv de treinamento para testar os modelos durante a validação cruzada. Com isso em mente, poderemos posteriormente verificar o quão robusto é nosso modelo e quão confiáveis são seus dados perante dados não vistos (dados de testes)"
   ]
  },
  {
   "cell_type": "code",
   "execution_count": 39,
   "metadata": {},
   "outputs": [],
   "source": [
    "x_train = train_frame.drop('CLASS', axis = 1)\n",
    "y_train = train_frame['CLASS']\n",
    "x_test = test_frame.drop('CLASS', axis = 1)\n",
    "y_test = test_frame['CLASS']"
   ]
  },
  {
   "cell_type": "markdown",
   "metadata": {},
   "source": [
    "# Arvore de Decisão\n",
    "Agora iremos construir nosso modelo de árvore de decisão com auxílio da biblioteca sklearn"
   ]
  },
  {
   "cell_type": "code",
   "execution_count": 40,
   "metadata": {},
   "outputs": [],
   "source": [
    "decision_tree = DecisionTreeClassifier()"
   ]
  },
  {
   "cell_type": "markdown",
   "metadata": {},
   "source": [
    "### Validação cruzada"
   ]
  },
  {
   "cell_type": "code",
   "execution_count": 41,
   "metadata": {},
   "outputs": [
    {
     "data": {
      "text/plain": [
       "0.775"
      ]
     },
     "execution_count": 41,
     "metadata": {},
     "output_type": "execute_result"
    }
   ],
   "source": [
    "kfold = StratifiedKFold(n_splits=10, random_state=1, shuffle=True)\n",
    "results = cross_val_score(decision_tree, x_train, y_train, cv=kfold, scoring='accuracy')\n",
    "result1 = results.mean()\n",
    "result1"
   ]
  },
  {
   "cell_type": "markdown",
   "metadata": {},
   "source": [
    "### Treinamento e Previsões\n",
    "agora que temos uma noção da 'robustez' do nosso modelo, vamos treiná-lo e fazer predição dos dados após treinamento"
   ]
  },
  {
   "cell_type": "code",
   "execution_count": 42,
   "metadata": {},
   "outputs": [
    {
     "data": {
      "text/plain": [
       "array([2, 2, 2, 2, 1, 1, 2, 2, 2, 2, 1, 1, 2, 2, 2, 2, 1, 2, 2, 2, 2, 2,\n",
       "       2, 1, 2, 1, 2, 2, 2, 2, 2, 1, 2, 2, 1, 2, 1, 1, 2, 2, 2, 2, 2, 2,\n",
       "       1, 2, 2, 2, 2, 1, 1, 2, 2, 2, 2, 2, 1, 2, 2, 2, 2, 2, 2, 2, 1, 1,\n",
       "       1, 1, 1, 2, 2, 1, 2, 1, 2])"
      ]
     },
     "execution_count": 42,
     "metadata": {},
     "output_type": "execute_result"
    }
   ],
   "source": [
    "decision_tree.fit(x_train, y_train)\n",
    "y_pred = decision_tree.predict(x_test)\n",
    "y_pred"
   ]
  },
  {
   "cell_type": "markdown",
   "metadata": {},
   "source": [
    "### Matriz de confusão"
   ]
  },
  {
   "cell_type": "code",
   "execution_count": 43,
   "metadata": {},
   "outputs": [
    {
     "data": {
      "text/plain": [
       "array([[ 7,  8],\n",
       "       [15, 45]])"
      ]
     },
     "execution_count": 43,
     "metadata": {},
     "output_type": "execute_result"
    }
   ],
   "source": [
    "confusion_matrix(y_test, y_pred)"
   ]
  },
  {
   "cell_type": "markdown",
   "metadata": {},
   "source": [
    "### Curva ROC e AUC"
   ]
  },
  {
   "cell_type": "code",
   "execution_count": 44,
   "metadata": {},
   "outputs": [
    {
     "name": "stdout",
     "output_type": "stream",
     "text": [
      "AUC: 0.6083333333333334 \n"
     ]
    },
    {
     "data": {
      "image/png": "[encoded data removed]",
      "text/plain": [
       "<Figure size 432x288 with 1 Axes>"
      ]
     },
     "metadata": {
      "needs_background": "light"
     },
     "output_type": "display_data"
    }
   ],
   "source": [
    "false_positive, true_positive, threshold = roc_curve(y_test, y_pred, pos_label=2)\n",
    "pyplot.plot(false_positive, true_positive)\n",
    "print(f'AUC: {roc_auc_score(y_test, y_pred)} ')"
   ]
  },
  {
   "cell_type": "markdown",
   "metadata": {},
   "source": [
    "# Floresta Randômica - Variaveis preditoras\n",
    "Agora vamos construir nosso modelo de floresta randômica com auxílio da biblioteca sklearn. Note que estaremos utilizando 100 árvores preditoras (n_estimators= 100) e usaremos todas as variáveis preditoras (max-features=None);"
   ]
  },
  {
   "cell_type": "code",
   "execution_count": 45,
   "metadata": {},
   "outputs": [],
   "source": [
    "ramdom_forest = RandomForestClassifier(n_estimators= 100, max_features=None )"
   ]
  },
  {
   "cell_type": "markdown",
   "metadata": {},
   "source": [
    "### validação cruzada\n",
    "Faremos sua validação cruzada, repetindo o mesmo processo feito para árvores de decisão, separando 10% dos dados para teste. Note que a variável Kfold já foi definida anteriormente; Nossos dados de treinamento e teste se mantém os mesmos então não precisamos redeclará-los."
   ]
  },
  {
   "cell_type": "code",
   "execution_count": 46,
   "metadata": {},
   "outputs": [
    {
     "data": {
      "text/plain": [
       "0.85"
      ]
     },
     "execution_count": 46,
     "metadata": {},
     "output_type": "execute_result"
    }
   ],
   "source": [
    "results = cross_val_score(ramdom_forest, x_train, y_train, cv=kfold, scoring='accuracy')\n",
    "result2 = results.mean()\n",
    "result2"
   ]
  },
  {
   "cell_type": "markdown",
   "metadata": {},
   "source": [
    "### Treinamento e previsões"
   ]
  },
  {
   "cell_type": "code",
   "execution_count": 47,
   "metadata": {},
   "outputs": [
    {
     "data": {
      "text/plain": [
       "array([2, 2, 2, 1, 2, 2, 2, 1, 2, 2, 2, 2, 2, 2, 2, 1, 1, 2, 2, 2, 2, 2,\n",
       "       2, 2, 2, 2, 2, 2, 2, 2, 2, 1, 2, 2, 1, 2, 1, 1, 2, 2, 2, 2, 2, 2,\n",
       "       2, 2, 2, 1, 2, 2, 2, 2, 2, 2, 2, 2, 2, 1, 2, 2, 2, 2, 2, 2, 2, 2,\n",
       "       2, 2, 1, 2, 1, 2, 2, 2, 2])"
      ]
     },
     "execution_count": 47,
     "metadata": {},
     "output_type": "execute_result"
    }
   ],
   "source": [
    "ramdom_forest.fit(x_train, y_train)\n",
    "y_pred = ramdom_forest.predict(x_test)\n",
    "y_pred"
   ]
  },
  {
   "cell_type": "markdown",
   "metadata": {},
   "source": [
    "### Matriz de confusão"
   ]
  },
  {
   "cell_type": "code",
   "execution_count": 48,
   "metadata": {},
   "outputs": [
    {
     "data": {
      "text/plain": [
       "array([[ 7,  8],\n",
       "       [ 5, 55]])"
      ]
     },
     "execution_count": 48,
     "metadata": {},
     "output_type": "execute_result"
    }
   ],
   "source": [
    "confusion_matrix(y_test, y_pred)"
   ]
  },
  {
   "cell_type": "markdown",
   "metadata": {},
   "source": [
    "### Curva ROC e AUC"
   ]
  },
  {
   "cell_type": "code",
   "execution_count": 49,
   "metadata": {},
   "outputs": [
    {
     "name": "stdout",
     "output_type": "stream",
     "text": [
      "AUC: 0.6916666666666667 \n"
     ]
    },
    {
     "data": {
      "image/png": "[encoded data removed]",
      "text/plain": [
       "<Figure size 432x288 with 1 Axes>"
      ]
     },
     "metadata": {
      "needs_background": "light"
     },
     "output_type": "display_data"
    }
   ],
   "source": [
    "false_positive, true_positive, threshold = roc_curve(y_test, y_pred, pos_label=2)\n",
    "pyplot.plot(false_positive, true_positive)\n",
    "print(f'AUC: {roc_auc_score(y_test, y_pred)} ')"
   ]
  },
  {
   "cell_type": "markdown",
   "metadata": {},
   "source": [
    "# Floresta Randômica - sqrt\n",
    "Note que estaremos utilizando 100 árvores preditoras (n_estimators= 100) e usaremos a raiz quadrada das variáveis preditoras (max-features='sqrt');"
   ]
  },
  {
   "cell_type": "code",
   "execution_count": 50,
   "metadata": {},
   "outputs": [],
   "source": [
    "ramdom_forest_sqrt = RandomForestClassifier(n_estimators= 100, max_features='sqrt' )"
   ]
  },
  {
   "cell_type": "markdown",
   "metadata": {},
   "source": [
    "### Validação Cruzada"
   ]
  },
  {
   "cell_type": "code",
   "execution_count": 51,
   "metadata": {},
   "outputs": [
    {
     "data": {
      "text/plain": [
       "0.875"
      ]
     },
     "execution_count": 51,
     "metadata": {},
     "output_type": "execute_result"
    }
   ],
   "source": [
    "results = cross_val_score(ramdom_forest_sqrt, x_train, y_train, cv=kfold, scoring='accuracy')\n",
    "result3 = results.mean()\n",
    "result3"
   ]
  },
  {
   "cell_type": "markdown",
   "metadata": {},
   "source": [
    "### Treinamento e Previsões"
   ]
  },
  {
   "cell_type": "code",
   "execution_count": 52,
   "metadata": {},
   "outputs": [
    {
     "data": {
      "text/plain": [
       "array([2, 2, 2, 2, 2, 2, 2, 2, 2, 2, 2, 2, 2, 2, 2, 1, 1, 2, 2, 2, 2, 2,\n",
       "       2, 2, 2, 2, 2, 2, 2, 2, 2, 2, 2, 2, 1, 2, 1, 2, 2, 2, 2, 2, 2, 2,\n",
       "       2, 2, 2, 1, 2, 2, 2, 2, 2, 2, 2, 2, 2, 1, 2, 2, 2, 2, 2, 2, 2, 2,\n",
       "       2, 2, 1, 2, 1, 2, 2, 2, 2])"
      ]
     },
     "execution_count": 52,
     "metadata": {},
     "output_type": "execute_result"
    }
   ],
   "source": [
    "ramdom_forest_sqrt.fit(x_train, y_train)\n",
    "y_pred = ramdom_forest_sqrt.predict(x_test)\n",
    "y_pred"
   ]
  },
  {
   "cell_type": "markdown",
   "metadata": {},
   "source": [
    "### Matriz de confusão"
   ]
  },
  {
   "cell_type": "code",
   "execution_count": 53,
   "metadata": {},
   "outputs": [
    {
     "data": {
      "text/plain": [
       "array([[ 5, 10],\n",
       "       [ 3, 57]])"
      ]
     },
     "execution_count": 53,
     "metadata": {},
     "output_type": "execute_result"
    }
   ],
   "source": [
    "confusion_matrix(y_test, y_pred)"
   ]
  },
  {
   "cell_type": "markdown",
   "metadata": {},
   "source": [
    "### Curva ROC e AUC"
   ]
  },
  {
   "cell_type": "code",
   "execution_count": 54,
   "metadata": {},
   "outputs": [
    {
     "name": "stdout",
     "output_type": "stream",
     "text": [
      "AUC: 0.6416666666666666 \n"
     ]
    },
    {
     "data": {
      "image/png": "[encoded data removed]",
      "text/plain": [
       "<Figure size 432x288 with 1 Axes>"
      ]
     },
     "metadata": {
      "needs_background": "light"
     },
     "output_type": "display_data"
    }
   ],
   "source": [
    "false_positive, true_positive, threshold = roc_curve(y_test, y_pred, pos_label=2)\n",
    "pyplot.plot(false_positive, true_positive)\n",
    "print(f'AUC: {roc_auc_score(y_test, y_pred)} ')"
   ]
  },
  {
   "cell_type": "markdown",
   "metadata": {},
   "source": [
    "# Comparando Modelos\n",
    "Assim como esperado, todos os modelos acima performaram com certa confiabilidade e com resultados próximos uns dos outros. Uma boa métrica para compararmos o desempenho dos modelos testados é utilizarmos as validações cruzadas feitas anteriormente."
   ]
  },
  {
   "cell_type": "code",
   "execution_count": 55,
   "metadata": {},
   "outputs": [
    {
     "name": "stdout",
     "output_type": "stream",
     "text": [
      "Acurácia média modelo Arvore de decisão: 0.775\n",
      "Acurácia média modelo Floresta Randomica usando todas variaveis preditoras: 0.85\n",
      "Acurácia média modelo Floresta Randomica usando raiz quadrada variaveis preditoras: 0.875\n"
     ]
    }
   ],
   "source": [
    "print(f'Acurácia média modelo Arvore de decisão: {result1}')\n",
    "print(f'Acurácia média modelo Floresta Randomica usando todas variaveis preditoras: {result2}')\n",
    "print(f'Acurácia média modelo Floresta Randomica usando raiz quadrada variaveis preditoras: {result3}')"
   ]
  }
 ],
 "metadata": {
  "kernelspec": {
   "display_name": "Python 3.8.10 64-bit",
   "language": "python",
   "name": "python3"
  },
  "language_info": {
   "codemirror_mode": {
    "name": "ipython",
    "version": 3
   },
   "file_extension": ".py",
   "mimetype": "text/x-python",
   "name": "python",
   "nbconvert_exporter": "python",
   "pygments_lexer": "ipython3",
   "version": "3.8.10"
  },
  "orig_nbformat": 4,
  "vscode": {
   "interpreter": {
    "hash": "916dbcbb3f70747c44a77c7bcd40155683ae19c65e1c03b4aa3499c5328201f1"
   }
  }
 },
 "nbformat": 4,
 "nbformat_minor": 2
}
